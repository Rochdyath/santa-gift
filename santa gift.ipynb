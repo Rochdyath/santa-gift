{
 "cells": [
  {
   "cell_type": "code",
   "execution_count": 7,
   "id": "920fa99e",
   "metadata": {},
   "outputs": [],
   "source": [
    "import random as rd\n",
    "\n",
    "nb = 9\n",
    "binguistes = [\"p1\", \"p2\", \"p3\",  \"p4\", \"p5\", \"p6\", \"p7\", \"p8\", \"p9\"]\n",
    "couples = []\n",
    "\n",
    "def tirage(name):\n",
    "    bcpy = binguistes[:]\n",
    "    try:\n",
    "        bcpy.remove(name)\n",
    "    except:\n",
    "        bcpy = bcpy\n",
    "    l = len(bcpy)\n",
    "    res = bcpy[rd.randint(0, l-1)]\n",
    "    i = 0\n",
    "    while (1):\n",
    "        if (i == nb):\n",
    "            print(\"une erreur s'est produit, relance tout le processus\")\n",
    "            break\n",
    "        if ((res, name) not in couples): break\n",
    "        res = bcpy[rd.randint(0, l-1)]\n",
    "        i += 1\n",
    "    binguistes.remove(res)\n",
    "    return res\n",
    "\n",
    "def santa_gift():\n",
    "    bcpy = binguistes[:]\n",
    "    for name in bcpy:\n",
    "        res = tirage(name)\n",
    "        couples.append((name, res))"
   ]
  },
  {
   "cell_type": "code",
   "execution_count": 8,
   "id": "5d9e7645",
   "metadata": {},
   "outputs": [],
   "source": [
    "santa_gift()"
   ]
  },
  {
   "cell_type": "code",
   "execution_count": 9,
   "id": "c92be5d7",
   "metadata": {},
   "outputs": [
    {
     "data": {
      "text/plain": [
       "'OK'"
      ]
     },
     "execution_count": 9,
     "metadata": {},
     "output_type": "execute_result"
    }
   ],
   "source": [
    "def unzip(liste):\n",
    "    one, two = [], []\n",
    "    for (x, y) in liste:\n",
    "        one.append(x)\n",
    "        two.append(y)\n",
    "    return (one, two)\n",
    "\n",
    "def check():\n",
    "    giver, receiver = unzip(couples)\n",
    "    if (len(set(giver)) != len(giver)): return \"KO\"\n",
    "    if (len(set(receiver)) != len(receiver)): return \"KO\"\n",
    "    for couple in couples:\n",
    "        one,two = couple\n",
    "        if ((two, one) in couples): return \"KO\"\n",
    "    return \"OK\"\n",
    "\n",
    "check()"
   ]
  },
  {
   "cell_type": "code",
   "execution_count": 10,
   "id": "61d14158",
   "metadata": {},
   "outputs": [
    {
     "data": {
      "text/plain": [
       "[('p1', 'p7'),\n",
       " ('p2', 'p3'),\n",
       " ('p3', 'p9'),\n",
       " ('p4', 'p8'),\n",
       " ('p5', 'p1'),\n",
       " ('p6', 'p4'),\n",
       " ('p7', 'p5'),\n",
       " ('p8', 'p2'),\n",
       " ('p9', 'p6')]"
      ]
     },
     "execution_count": 10,
     "metadata": {},
     "output_type": "execute_result"
    }
   ],
   "source": [
    "couples"
   ]
  },
  {
   "cell_type": "code",
   "execution_count": null,
   "id": "64ba7bdb",
   "metadata": {},
   "outputs": [],
   "source": []
  }
 ],
 "metadata": {
  "kernelspec": {
   "display_name": "Python 3 (ipykernel)",
   "language": "python",
   "name": "python3"
  },
  "language_info": {
   "codemirror_mode": {
    "name": "ipython",
    "version": 3
   },
   "file_extension": ".py",
   "mimetype": "text/x-python",
   "name": "python",
   "nbconvert_exporter": "python",
   "pygments_lexer": "ipython3",
   "version": "3.11.5"
  }
 },
 "nbformat": 4,
 "nbformat_minor": 5
}
